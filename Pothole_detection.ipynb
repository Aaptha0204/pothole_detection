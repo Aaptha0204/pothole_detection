{
  "nbformat": 4,
  "nbformat_minor": 0,
  "metadata": {
    "colab": {
      "name": "Pothole detection.ipynb",
      "provenance": [],
      "collapsed_sections": []
    },
    "kernelspec": {
      "name": "python3",
      "display_name": "Python 3"
    },
    "language_info": {
      "name": "python"
    }
  },
  "cells": [
    {
      "cell_type": "code",
      "metadata": {
        "id": "JHOIdnWf6_2N"
      },
      "source": [
        "import tensorflow as tf\n",
        "import cv2\n",
        "import os\n",
        "import pandas as pd\n",
        "import numpy as np\n",
        "import matplotlib.pyplot as plt\n",
        "from google.colab.patches import cv2_imshow"
      ],
      "execution_count": null,
      "outputs": []
    },
    {
      "cell_type": "markdown",
      "metadata": {
        "id": "U2XDWk-dWLay"
      },
      "source": [
        "Upload the dataset on your drive and import your drive here.\n"
      ]
    },
    {
      "cell_type": "code",
      "metadata": {
        "id": "lUvcjGLx689Z",
        "colab": {
          "base_uri": "https://localhost:8080/"
        },
        "outputId": "16ee675a-b3d2-4674-f6a5-4c32e826ea69"
      },
      "source": [
        "from google.colab import drive\n",
        "drive.mount('/content/gdrive')"
      ],
      "execution_count": null,
      "outputs": [
        {
          "output_type": "stream",
          "text": [
            "Mounted at /content/gdrive\n"
          ],
          "name": "stdout"
        }
      ]
    },
    {
      "cell_type": "code",
      "metadata": {
        "colab": {
          "base_uri": "https://localhost:8080/"
        },
        "id": "9I2xzcSRXKIY",
        "outputId": "16f9a36e-f198-483c-f993-4e1082b1a430"
      },
      "source": [
        "!ls gdrive/MyDrive/"
      ],
      "execution_count": null,
      "outputs": [
        {
          "output_type": "stream",
          "text": [
            " archive.zip   'CHIPS - Heart attack prediction.gsheet'   data.zip   MD.zip\n",
            " Certificates  'Colab Notebooks'\t\t\t  Data.zip   spam.csv\n"
          ],
          "name": "stdout"
        }
      ]
    },
    {
      "cell_type": "markdown",
      "metadata": {
        "id": "KkhXrpUyWS6P"
      },
      "source": [
        "Open the location of the zip folder containing pothole images and unzip it."
      ]
    },
    {
      "cell_type": "code",
      "metadata": {
        "colab": {
          "base_uri": "https://localhost:8080/"
        },
        "id": "kcSbm8oyXWPU",
        "outputId": "24676bfe-fe1c-41c5-ccd8-6724d8d9e07b"
      },
      "source": [
        "!unzip gdrive/MyDrive/archive.zip"
      ],
      "execution_count": null,
      "outputs": [
        {
          "output_type": "stream",
          "text": [
            "Archive:  gdrive/MyDrive/archive.zip\n",
            "  inflating: normal/1.jpg            \n",
            "  inflating: normal/10.jpg           \n",
            "  inflating: normal/100.jpg          \n",
            "  inflating: normal/101.jpg          \n",
            "  inflating: normal/102.jpg          \n",
            "  inflating: normal/103.jpg          \n",
            "  inflating: normal/104.jpg          \n",
            "  inflating: normal/105.jpg          \n",
            "  inflating: normal/106.jpg          \n",
            "  inflating: normal/107.jpg          \n",
            "  inflating: normal/108.jpg          \n",
            "  inflating: normal/109.jpg          \n",
            "  inflating: normal/11.jpg           \n",
            "  inflating: normal/110.jpg          \n",
            "  inflating: normal/111.jpg          \n",
            "  inflating: normal/112.jpg          \n",
            "  inflating: normal/113.jpg          \n",
            "  inflating: normal/114.jpg          \n",
            "  inflating: normal/115.jpg          \n",
            "  inflating: normal/116.jpg          \n",
            "  inflating: normal/117.jpg          \n",
            "  inflating: normal/118.jpg          \n",
            "  inflating: normal/119.jpg          \n",
            "  inflating: normal/12.jpg           \n",
            "  inflating: normal/120.jpg          \n",
            "  inflating: normal/121.jpg          \n",
            "  inflating: normal/122.jpg          \n",
            "  inflating: normal/123.jpg          \n",
            "  inflating: normal/124.jpg          \n",
            "  inflating: normal/125.jpg          \n",
            "  inflating: normal/126.jpg          \n",
            "  inflating: normal/127.jpg          \n",
            "  inflating: normal/128.jpg          \n",
            "  inflating: normal/129.jpg          \n",
            "  inflating: normal/13.jpg           \n",
            "  inflating: normal/130.jpg          \n",
            "  inflating: normal/131.jpg          \n",
            "  inflating: normal/132.jpg          \n",
            "  inflating: normal/133.jpg          \n",
            "  inflating: normal/134.jpg          \n",
            "  inflating: normal/135.jpg          \n",
            "  inflating: normal/136.jpg          \n",
            "  inflating: normal/137.jpg          \n",
            "  inflating: normal/138.jpg          \n",
            "  inflating: normal/139.jpg          \n",
            "  inflating: normal/14.jpg           \n",
            "  inflating: normal/140.jpg          \n",
            "  inflating: normal/141.jpg          \n",
            "  inflating: normal/142.jpg          \n",
            "  inflating: normal/143.jpg          \n",
            "  inflating: normal/144.jpg          \n",
            "  inflating: normal/145.jpg          \n",
            "  inflating: normal/146.jpg          \n",
            "  inflating: normal/147.jpg          \n",
            "  inflating: normal/148.jpg          \n",
            "  inflating: normal/149.jpg          \n",
            "  inflating: normal/15.jpg           \n",
            "  inflating: normal/150.jpg          \n",
            "  inflating: normal/151.jpg          \n",
            "  inflating: normal/152.jpg          \n",
            "  inflating: normal/153.jpg          \n",
            "  inflating: normal/154.jpg          \n",
            "  inflating: normal/155.jpg          \n",
            "  inflating: normal/156.jpg          \n",
            "  inflating: normal/157.jpg          \n",
            "  inflating: normal/158.jpg          \n",
            "  inflating: normal/159.jpg          \n",
            "  inflating: normal/16.jpg           \n",
            "  inflating: normal/160.jpg          \n",
            "  inflating: normal/161.jpg          \n",
            "  inflating: normal/162.jpg          \n",
            "  inflating: normal/163.jpg          \n",
            "  inflating: normal/164.jpg          \n",
            "  inflating: normal/165.jpg          \n",
            "  inflating: normal/166.jpg          \n",
            "  inflating: normal/167.jpg          \n",
            "  inflating: normal/168.jpg          \n",
            "  inflating: normal/169.jpg          \n",
            "  inflating: normal/17.jpg           \n",
            "  inflating: normal/170.jpg          \n",
            "  inflating: normal/171.jpg          \n",
            "  inflating: normal/172.jpg          \n",
            "  inflating: normal/173.jpg          \n",
            "  inflating: normal/174.jpg          \n",
            "  inflating: normal/175.jpg          \n",
            "  inflating: normal/176.jpg          \n",
            "  inflating: normal/177.jpg          \n",
            "  inflating: normal/178.jpg          \n",
            "  inflating: normal/179.jpg          \n",
            "  inflating: normal/18.jpg           \n",
            "  inflating: normal/180.jpg          \n",
            "  inflating: normal/181.jpg          \n",
            "  inflating: normal/182.jpg          \n",
            "  inflating: normal/183.jpg          \n",
            "  inflating: normal/184.jpg          \n",
            "  inflating: normal/185.jpg          \n",
            "  inflating: normal/186.jpg          \n",
            "  inflating: normal/187.jpg          \n",
            "  inflating: normal/188.jpg          \n",
            "  inflating: normal/189.jpg          \n",
            "  inflating: normal/19.jpg           \n",
            "  inflating: normal/190.jpg          \n",
            "  inflating: normal/191.jpg          \n",
            "  inflating: normal/192.jpg          \n",
            "  inflating: normal/193.jpg          \n",
            "  inflating: normal/194.jpg          \n",
            "  inflating: normal/195.jpg          \n",
            "  inflating: normal/196.jpg          \n",
            "  inflating: normal/197.jpg          \n",
            "  inflating: normal/198.jpg          \n",
            "  inflating: normal/199.jpg          \n",
            "  inflating: normal/2.jpg            \n",
            "  inflating: normal/20.jpg           \n",
            "  inflating: normal/200.jpg          \n",
            "  inflating: normal/201.jpg          \n",
            "  inflating: normal/202.jpg          \n",
            "  inflating: normal/203.jpg          \n",
            "  inflating: normal/204.jpg          \n",
            "  inflating: normal/205.jpg          \n",
            "  inflating: normal/206.jpg          \n",
            "  inflating: normal/207.jpg          \n",
            "  inflating: normal/208.jpg          \n",
            "  inflating: normal/209.jpg          \n",
            "  inflating: normal/21.jpg           \n",
            "  inflating: normal/210.jpg          \n",
            "  inflating: normal/211.jpg          \n",
            "  inflating: normal/212.jpg          \n",
            "  inflating: normal/213.jpg          \n",
            "  inflating: normal/214.jpg          \n",
            "  inflating: normal/215.jpg          \n",
            "  inflating: normal/216.jpg          \n",
            "  inflating: normal/217.jpg          \n",
            "  inflating: normal/218.jpg          \n",
            "  inflating: normal/219.jpg          \n",
            "  inflating: normal/22.jpg           \n",
            "  inflating: normal/220.jpg          \n",
            "  inflating: normal/221.jpg          \n",
            "  inflating: normal/222.jpg          \n",
            "  inflating: normal/223.jpg          \n",
            "  inflating: normal/224.jpg          \n",
            "  inflating: normal/225.jpg          \n",
            "  inflating: normal/226.jpg          \n",
            "  inflating: normal/227.jpg          \n",
            "  inflating: normal/228.jpg          \n",
            "  inflating: normal/229.jpg          \n",
            "  inflating: normal/23.jpg           \n",
            "  inflating: normal/230.jpg          \n",
            "  inflating: normal/231.jpg          \n",
            "  inflating: normal/232.jpg          \n",
            "  inflating: normal/233.jpg          \n",
            "  inflating: normal/234.jpg          \n",
            "  inflating: normal/235.jpg          \n",
            "  inflating: normal/236.jpg          \n",
            "  inflating: normal/237.jpg          \n",
            "  inflating: normal/238.jpg          \n",
            "  inflating: normal/239.jpg          \n",
            "  inflating: normal/24.jpg           \n",
            "  inflating: normal/240.jpg          \n",
            "  inflating: normal/241.jpg          \n",
            "  inflating: normal/242.jpg          \n",
            "  inflating: normal/243.jpg          \n",
            "  inflating: normal/244.jpg          \n",
            "  inflating: normal/245.jpg          \n",
            "  inflating: normal/246.jpg          \n",
            "  inflating: normal/247.jpg          \n",
            "  inflating: normal/248.jpg          \n",
            "  inflating: normal/249.jpg          \n",
            "  inflating: normal/25.jpg           \n",
            "  inflating: normal/250.jpg          \n",
            "  inflating: normal/251.jpg          \n",
            "  inflating: normal/252.jpg          \n",
            "  inflating: normal/253.jpg          \n",
            "  inflating: normal/254.jpg          \n",
            "  inflating: normal/255.jpg          \n",
            "  inflating: normal/256.jpg          \n",
            "  inflating: normal/257.jpg          \n",
            "  inflating: normal/258.jpg          \n",
            "  inflating: normal/259.jpg          \n",
            "  inflating: normal/26.jpg           \n",
            "  inflating: normal/260.jpg          \n",
            "  inflating: normal/261.jpg          \n",
            "  inflating: normal/262.jpg          \n",
            "  inflating: normal/263.jpg          \n",
            "  inflating: normal/264.jpg          \n",
            "  inflating: normal/265.jpg          \n",
            "  inflating: normal/266.jpg          \n",
            "  inflating: normal/267.jpg          \n",
            "  inflating: normal/268.jpg          \n",
            "  inflating: normal/269.jpg          \n",
            "  inflating: normal/27.jpg           \n",
            "  inflating: normal/270.jpg          \n",
            "  inflating: normal/271.jpg          \n",
            "  inflating: normal/272.jpg          \n",
            "  inflating: normal/273.jpg          \n",
            "  inflating: normal/274.jpg          \n",
            "  inflating: normal/275.jpg          \n",
            "  inflating: normal/276.jpg          \n",
            "  inflating: normal/277.jpg          \n",
            "  inflating: normal/278.jpg          \n",
            "  inflating: normal/279.jpg          \n",
            "  inflating: normal/28.jpg           \n",
            "  inflating: normal/280.jpg          \n",
            "  inflating: normal/281.jpg          \n",
            "  inflating: normal/282.jpg          \n",
            "  inflating: normal/283.jpg          \n",
            "  inflating: normal/284.jpg          \n",
            "  inflating: normal/285.jpg          \n",
            "  inflating: normal/286.jpg          \n",
            "  inflating: normal/287.jpg          \n",
            "  inflating: normal/288.jpg          \n",
            "  inflating: normal/289.jpg          \n",
            "  inflating: normal/29.jpg           \n",
            "  inflating: normal/290.jpg          \n",
            "  inflating: normal/291.jpg          \n",
            "  inflating: normal/292.jpg          \n",
            "  inflating: normal/293.jpg          \n",
            "  inflating: normal/294.jpg          \n",
            "  inflating: normal/295.jpg          \n",
            "  inflating: normal/296.jpg          \n",
            "  inflating: normal/297.jpg          \n",
            "  inflating: normal/298.jpg          \n",
            "  inflating: normal/299.jpg          \n",
            "  inflating: normal/3.jpg            \n",
            "  inflating: normal/30.jpg           \n",
            "  inflating: normal/300.jpg          \n",
            "  inflating: normal/301.jpg          \n",
            "  inflating: normal/302.jpg          \n",
            "  inflating: normal/303.jpg          \n",
            "  inflating: normal/304.jpg          \n",
            "  inflating: normal/305.jpg          \n",
            "  inflating: normal/306.jpg          \n",
            "  inflating: normal/307.jpg          \n",
            "  inflating: normal/308.jpg          \n",
            "  inflating: normal/309.jpg          \n",
            "  inflating: normal/31.jpg           \n",
            "  inflating: normal/310.jpg          \n",
            "  inflating: normal/311.jpg          \n",
            "  inflating: normal/312.jpg          \n",
            "  inflating: normal/313.jpg          \n",
            "  inflating: normal/314.jpg          \n",
            "  inflating: normal/315.jpg          \n",
            "  inflating: normal/316.jpg          \n",
            "  inflating: normal/317.jpg          \n",
            "  inflating: normal/318.jpg          \n",
            "  inflating: normal/319.jpg          \n",
            "  inflating: normal/32.jpg           \n",
            "  inflating: normal/320.jpg          \n",
            "  inflating: normal/321.jpg          \n",
            "  inflating: normal/322.jpg          \n",
            "  inflating: normal/323.jpg          \n",
            "  inflating: normal/324.jpg          \n",
            "  inflating: normal/325.jpg          \n",
            "  inflating: normal/326.jpg          \n",
            "  inflating: normal/327.jpg          \n",
            "  inflating: normal/328.jpg          \n",
            "  inflating: normal/329.jpg          \n",
            "  inflating: normal/33.jpg           \n",
            "  inflating: normal/330.jpg          \n",
            "  inflating: normal/331.jpg          \n",
            "  inflating: normal/332.jpg          \n",
            "  inflating: normal/333.jpg          \n",
            "  inflating: normal/334.jpg          \n",
            "  inflating: normal/335.jpg          \n",
            "  inflating: normal/336.jpg          \n",
            "  inflating: normal/337.jpg          \n",
            "  inflating: normal/338.jpg          \n",
            "  inflating: normal/339.jpg          \n",
            "  inflating: normal/34.jpg           \n",
            "  inflating: normal/340.jpg          \n",
            "  inflating: normal/341.jpg          \n",
            "  inflating: normal/342.jpg          \n",
            "  inflating: normal/343.jpg          \n",
            "  inflating: normal/344.jpg          \n",
            "  inflating: normal/345.jpg          \n",
            "  inflating: normal/346.jpg          \n",
            "  inflating: normal/347.jpg          \n",
            "  inflating: normal/348.jpg          \n",
            "  inflating: normal/349.jpg          \n",
            "  inflating: normal/35.jpg           \n",
            "  inflating: normal/350.jpg          \n",
            "  inflating: normal/351.jpg          \n",
            "  inflating: normal/352.jpg          \n",
            "  inflating: normal/36.jpg           \n",
            "  inflating: normal/37.jpg           \n",
            "  inflating: normal/38.jpg           \n",
            "  inflating: normal/39.jpg           \n",
            "  inflating: normal/4.jpg            \n",
            "  inflating: normal/40.jpg           \n",
            "  inflating: normal/41.jpg           \n",
            "  inflating: normal/42.jpg           \n",
            "  inflating: normal/43.jpg           \n",
            "  inflating: normal/44.jpg           \n",
            "  inflating: normal/45.jpg           \n",
            "  inflating: normal/46.jpg           \n",
            "  inflating: normal/47.jpg           \n",
            "  inflating: normal/48.jpg           \n",
            "  inflating: normal/49.jpg           \n",
            "  inflating: normal/5.jpg            \n",
            "  inflating: normal/50.jpg           \n",
            "  inflating: normal/51.jpg           \n",
            "  inflating: normal/52.jpg           \n",
            "  inflating: normal/53.jpg           \n",
            "  inflating: normal/54.jpg           \n",
            "  inflating: normal/55.jpg           \n",
            "  inflating: normal/56.jpg           \n",
            "  inflating: normal/57.jpg           \n",
            "  inflating: normal/58.jpg           \n",
            "  inflating: normal/59.jpg           \n",
            "  inflating: normal/6.jpg            \n",
            "  inflating: normal/60.jpg           \n",
            "  inflating: normal/61.jpg           \n",
            "  inflating: normal/62.jpg           \n",
            "  inflating: normal/63.jpg           \n",
            "  inflating: normal/64.jpg           \n",
            "  inflating: normal/65.jpg           \n",
            "  inflating: normal/66.jpg           \n",
            "  inflating: normal/67.jpg           \n",
            "  inflating: normal/68.jpg           \n",
            "  inflating: normal/69.jpg           \n",
            "  inflating: normal/7.jpg            \n",
            "  inflating: normal/70.jpg           \n",
            "  inflating: normal/71.jpg           \n",
            "  inflating: normal/72.jpg           \n",
            "  inflating: normal/73.jpg           \n",
            "  inflating: normal/74.jpg           \n",
            "  inflating: normal/75.jpg           \n",
            "  inflating: normal/76.jpg           \n",
            "  inflating: normal/77.jpg           \n",
            "  inflating: normal/78.jpg           \n",
            "  inflating: normal/79.jpg           \n",
            "  inflating: normal/8.jpg            \n",
            "  inflating: normal/80.jpg           \n",
            "  inflating: normal/81.jpg           \n",
            "  inflating: normal/82.jpg           \n",
            "  inflating: normal/83.jpg           \n",
            "  inflating: normal/84.jpg           \n",
            "  inflating: normal/85.jpg           \n",
            "  inflating: normal/86.jpg           \n",
            "  inflating: normal/87.jpg           \n",
            "  inflating: normal/88.jpg           \n",
            "  inflating: normal/89.jpg           \n",
            "  inflating: normal/9.jpg            \n",
            "  inflating: normal/90.jpg           \n",
            "  inflating: normal/91.jpg           \n",
            "  inflating: normal/92.jpg           \n",
            "  inflating: normal/93.jpg           \n",
            "  inflating: normal/94.jpg           \n",
            "  inflating: normal/95.jpg           \n",
            "  inflating: normal/96.jpg           \n",
            "  inflating: normal/97.jpg           \n",
            "  inflating: normal/98.jpg           \n",
            "  inflating: normal/99.jpg           \n",
            "  inflating: potholes/1.jpg          \n",
            "  inflating: potholes/10.jpg         \n",
            "  inflating: potholes/100.jpg        \n",
            "  inflating: potholes/101.jpg        \n",
            "  inflating: potholes/102.jpg        \n",
            "  inflating: potholes/103.jpg        \n",
            "  inflating: potholes/104.jpg        \n",
            "  inflating: potholes/105.jpg        \n",
            "  inflating: potholes/106.jpg        \n",
            "  inflating: potholes/107.jpg        \n",
            "  inflating: potholes/108.jpg        \n",
            "  inflating: potholes/109.jpg        \n",
            "  inflating: potholes/11.jpg         \n",
            "  inflating: potholes/110.jpg        \n",
            "  inflating: potholes/111.jpg        \n",
            "  inflating: potholes/112.jpg        \n",
            "  inflating: potholes/113.jpg        \n",
            "  inflating: potholes/114.jpg        \n",
            "  inflating: potholes/115.jpg        \n",
            "  inflating: potholes/116.jpg        \n",
            "  inflating: potholes/117.jpg        \n",
            "  inflating: potholes/118.jpg        \n",
            "  inflating: potholes/119.jpg        \n",
            "  inflating: potholes/12.jpg         \n",
            "  inflating: potholes/120.jpg        \n",
            "  inflating: potholes/121.jpg        \n",
            "  inflating: potholes/122.jpg        \n",
            "  inflating: potholes/123.jpg        \n",
            "  inflating: potholes/124.jpg        \n",
            "  inflating: potholes/125.jpg        \n",
            "  inflating: potholes/126.jpg        \n",
            "  inflating: potholes/127.jpg        \n",
            "  inflating: potholes/128.jpg        \n",
            "  inflating: potholes/129.jpg        \n",
            "  inflating: potholes/13.jpg         \n",
            "  inflating: potholes/130.jpg        \n",
            "  inflating: potholes/131.jpg        \n",
            "  inflating: potholes/132.jpg        \n",
            "  inflating: potholes/133.jpg        \n",
            "  inflating: potholes/134.jpg        \n",
            "  inflating: potholes/135.jpg        \n",
            "  inflating: potholes/136.jpg        \n",
            "  inflating: potholes/137.jpg        \n",
            "  inflating: potholes/138.jpg        \n",
            "  inflating: potholes/139.jpg        \n",
            "  inflating: potholes/14.jpg         \n",
            "  inflating: potholes/140.jpg        \n",
            "  inflating: potholes/141.jpg        \n",
            "  inflating: potholes/142.jpg        \n",
            "  inflating: potholes/143.jpg        \n",
            "  inflating: potholes/144.jpg        \n",
            "  inflating: potholes/145.jpg        \n",
            "  inflating: potholes/146.jpg        \n",
            "  inflating: potholes/147.jpg        \n",
            "  inflating: potholes/148.jpg        \n",
            "  inflating: potholes/149.jpg        \n",
            "  inflating: potholes/15.jpg         \n",
            "  inflating: potholes/150.jpg        \n",
            "  inflating: potholes/151.jpg        \n",
            "  inflating: potholes/152.jpg        \n",
            "  inflating: potholes/153.jpg        \n",
            "  inflating: potholes/154.jpg        \n",
            "  inflating: potholes/155.jpg        \n",
            "  inflating: potholes/156.jpg        \n",
            "  inflating: potholes/157.jpg        \n",
            "  inflating: potholes/158.jpg        \n",
            "  inflating: potholes/159.jpg        \n",
            "  inflating: potholes/16.jpg         \n",
            "  inflating: potholes/160.jpg        \n",
            "  inflating: potholes/161.jpg        \n",
            "  inflating: potholes/162.jpg        \n",
            "  inflating: potholes/163.jpg        \n",
            "  inflating: potholes/164.jpg        \n",
            "  inflating: potholes/165.jpg        \n",
            "  inflating: potholes/166.jpg        \n",
            "  inflating: potholes/167.jpg        \n",
            "  inflating: potholes/168.jpg        \n",
            "  inflating: potholes/169.jpg        \n",
            "  inflating: potholes/17.jpg         \n",
            "  inflating: potholes/170.jpg        \n",
            "  inflating: potholes/171.jpg        \n",
            "  inflating: potholes/172.jpg        \n",
            "  inflating: potholes/173.jpg        \n",
            "  inflating: potholes/174.jpg        \n",
            "  inflating: potholes/175.jpg        \n",
            "  inflating: potholes/176.jpg        \n",
            "  inflating: potholes/177.jpg        \n",
            "  inflating: potholes/178.jpg        \n",
            "  inflating: potholes/179.jpg        \n",
            "  inflating: potholes/18.jpg         \n",
            "  inflating: potholes/180.jpg        \n",
            "  inflating: potholes/181.jpg        \n",
            "  inflating: potholes/182.jpg        \n",
            "  inflating: potholes/183.jpg        \n",
            "  inflating: potholes/184.jpg        \n",
            "  inflating: potholes/185.jpg        \n",
            "  inflating: potholes/186.jpg        \n",
            "  inflating: potholes/187.jpg        \n",
            "  inflating: potholes/188.jpg        \n",
            "  inflating: potholes/189.jpg        \n",
            "  inflating: potholes/19.jpg         \n",
            "  inflating: potholes/190.jpg        \n",
            "  inflating: potholes/191.jpg        \n",
            "  inflating: potholes/192.jpg        \n",
            "  inflating: potholes/193.jpg        \n",
            "  inflating: potholes/194.jpg        \n",
            "  inflating: potholes/195.jpg        \n",
            "  inflating: potholes/196.jpg        \n",
            "  inflating: potholes/197.jpg        \n",
            "  inflating: potholes/198.jpg        \n",
            "  inflating: potholes/199.jpg        \n",
            "  inflating: potholes/2.jpg          \n",
            "  inflating: potholes/20.jpg         \n",
            "  inflating: potholes/200.jpg        \n",
            "  inflating: potholes/201.jpg        \n",
            "  inflating: potholes/202.jpg        \n",
            "  inflating: potholes/203.jpg        \n",
            "  inflating: potholes/204.jpg        \n",
            "  inflating: potholes/205.jpg        \n",
            "  inflating: potholes/206.jpg        \n",
            "  inflating: potholes/207.jpg        \n",
            "  inflating: potholes/208.jpg        \n",
            "  inflating: potholes/209.jpg        \n",
            "  inflating: potholes/21.jpg         \n",
            "  inflating: potholes/210.jpg        \n",
            "  inflating: potholes/211.jpg        \n",
            "  inflating: potholes/212.jpg        \n",
            "  inflating: potholes/213.jpg        \n",
            "  inflating: potholes/214.jpg        \n",
            "  inflating: potholes/215.jpg        \n",
            "  inflating: potholes/216.jpg        \n",
            "  inflating: potholes/217.jpg        \n",
            "  inflating: potholes/218.jpg        \n",
            "  inflating: potholes/219.jpg        \n",
            "  inflating: potholes/22.jpg         \n",
            "  inflating: potholes/220.jpg        \n",
            "  inflating: potholes/221.jpg        \n",
            "  inflating: potholes/222.jpg        \n",
            "  inflating: potholes/223.jpg        \n",
            "  inflating: potholes/224.jpg        \n",
            "  inflating: potholes/225.jpg        \n",
            "  inflating: potholes/226.jpg        \n",
            "  inflating: potholes/227.jpg        \n",
            "  inflating: potholes/228.jpg        \n",
            "  inflating: potholes/229.jpg        \n",
            "  inflating: potholes/23.jpg         \n",
            "  inflating: potholes/230.jpg        \n",
            "  inflating: potholes/231.jpg        \n",
            "  inflating: potholes/232.jpg        \n",
            "  inflating: potholes/233.jpg        \n",
            "  inflating: potholes/234.jpg        \n",
            "  inflating: potholes/235.jpg        \n",
            "  inflating: potholes/236.jpg        \n",
            "  inflating: potholes/237.jpg        \n",
            "  inflating: potholes/238.jpg        \n",
            "  inflating: potholes/239.jpg        \n",
            "  inflating: potholes/24.jpg         \n",
            "  inflating: potholes/240.jpg        \n",
            "  inflating: potholes/241.jpg        \n",
            "  inflating: potholes/242.jpg        \n",
            "  inflating: potholes/243.jpg        \n",
            "  inflating: potholes/244.jpg        \n",
            "  inflating: potholes/245.jpg        \n",
            "  inflating: potholes/246.jpg        \n",
            "  inflating: potholes/247.jpg        \n",
            "  inflating: potholes/248.jpg        \n",
            "  inflating: potholes/249.jpg        \n",
            "  inflating: potholes/25.jpg         \n",
            "  inflating: potholes/250.jpg        \n",
            "  inflating: potholes/251.jpg        \n",
            "  inflating: potholes/252.jpg        \n",
            "  inflating: potholes/253.jpg        \n",
            "  inflating: potholes/254.jpg        \n",
            "  inflating: potholes/255.jpg        \n",
            "  inflating: potholes/256.jpg        \n",
            "  inflating: potholes/257.jpg        \n",
            "  inflating: potholes/258.jpg        \n",
            "  inflating: potholes/259.jpg        \n",
            "  inflating: potholes/26.jpg         \n",
            "  inflating: potholes/260.jpg        \n",
            "  inflating: potholes/261.jpg        \n",
            "  inflating: potholes/262.jpg        \n",
            "  inflating: potholes/263.jpg        \n",
            "  inflating: potholes/264.jpg        \n",
            "  inflating: potholes/265.jpg        \n",
            "  inflating: potholes/266.jpg        \n",
            "  inflating: potholes/267.jpg        \n",
            "  inflating: potholes/268.jpg        \n",
            "  inflating: potholes/269.jpg        \n",
            "  inflating: potholes/27.jpg         \n",
            "  inflating: potholes/270.jpg        \n",
            "  inflating: potholes/271.jpg        \n",
            "  inflating: potholes/272.jpg        \n",
            "  inflating: potholes/273.jpg        \n",
            "  inflating: potholes/274.jpg        \n",
            "  inflating: potholes/275.jpg        \n",
            "  inflating: potholes/276.jpg        \n",
            "  inflating: potholes/277.jpg        \n",
            "  inflating: potholes/278.jpg        \n",
            "  inflating: potholes/279.jpg        \n",
            "  inflating: potholes/28.jpg         \n",
            "  inflating: potholes/280.jpg        \n",
            "  inflating: potholes/281.jpg        \n",
            "  inflating: potholes/282.jpg        \n",
            "  inflating: potholes/283.jpg        \n",
            "  inflating: potholes/284.jpg        \n",
            "  inflating: potholes/285.jpg        \n",
            "  inflating: potholes/286.jpg        \n",
            "  inflating: potholes/287.jpg        \n",
            "  inflating: potholes/288.jpg        \n",
            "  inflating: potholes/289.jpg        \n",
            "  inflating: potholes/29.jpg         \n",
            "  inflating: potholes/290.jpg        \n",
            "  inflating: potholes/291.jpg        \n",
            "  inflating: potholes/292.jpg        \n",
            "  inflating: potholes/293.jpg        \n",
            "  inflating: potholes/294.jpg        \n",
            "  inflating: potholes/295.jpg        \n",
            "  inflating: potholes/296.jpg        \n",
            "  inflating: potholes/297.jpg        \n",
            "  inflating: potholes/298.jpg        \n",
            "  inflating: potholes/299.jpg        \n",
            "  inflating: potholes/3.jpg          \n",
            "  inflating: potholes/30.jpg         \n",
            "  inflating: potholes/300.jpg        \n",
            "  inflating: potholes/301.jpg        \n",
            "  inflating: potholes/302.jpg        \n",
            "  inflating: potholes/303.jpg        \n",
            "  inflating: potholes/304.jpg        \n",
            "  inflating: potholes/305.jpg        \n",
            "  inflating: potholes/306.jpg        \n",
            "  inflating: potholes/307.jpg        \n",
            "  inflating: potholes/308.jpg        \n",
            "  inflating: potholes/309.jpg        \n",
            "  inflating: potholes/31.jpg         \n",
            "  inflating: potholes/310.jpg        \n",
            "  inflating: potholes/311.jpg        \n",
            "  inflating: potholes/312.jpg        \n",
            "  inflating: potholes/313.jpg        \n",
            "  inflating: potholes/314.jpg        \n",
            "  inflating: potholes/315.jpg        \n",
            "  inflating: potholes/316.jpg        \n",
            "  inflating: potholes/317.jpg        \n",
            "  inflating: potholes/318.jpg        \n",
            "  inflating: potholes/319.jpg        \n",
            "  inflating: potholes/32.jpg         \n",
            "  inflating: potholes/320.jpg        \n",
            "  inflating: potholes/321.jpg        \n",
            "  inflating: potholes/322.jpg        \n",
            "  inflating: potholes/323.jpg        \n",
            "  inflating: potholes/324.jpg        \n",
            "  inflating: potholes/325.jpg        \n",
            "  inflating: potholes/326.jpg        \n",
            "  inflating: potholes/327.jpg        \n",
            "  inflating: potholes/328.jpg        \n",
            "  inflating: potholes/329.jpg        \n",
            "  inflating: potholes/33.jpg         \n",
            "  inflating: potholes/34.jpg         \n",
            "  inflating: potholes/35.jpg         \n",
            "  inflating: potholes/36.jpg         \n",
            "  inflating: potholes/37.jpg         \n",
            "  inflating: potholes/38.jpg         \n",
            "  inflating: potholes/39.jpg         \n",
            "  inflating: potholes/4.jpg          \n",
            "  inflating: potholes/40.jpg         \n",
            "  inflating: potholes/41.jpg         \n",
            "  inflating: potholes/42.jpg         \n",
            "  inflating: potholes/43.jpg         \n",
            "  inflating: potholes/44.jpg         \n",
            "  inflating: potholes/45.jpg         \n",
            "  inflating: potholes/46.jpg         \n",
            "  inflating: potholes/47.jpg         \n",
            "  inflating: potholes/48.jpg         \n",
            "  inflating: potholes/49.jpg         \n",
            "  inflating: potholes/5.jpg          \n",
            "  inflating: potholes/50.jpg         \n",
            "  inflating: potholes/51.jpg         \n",
            "  inflating: potholes/52.jpg         \n",
            "  inflating: potholes/53.jpg         \n",
            "  inflating: potholes/54.jpg         \n",
            "  inflating: potholes/55.jpg         \n",
            "  inflating: potholes/56.jpg         \n",
            "  inflating: potholes/57.jpg         \n",
            "  inflating: potholes/58.jpg         \n",
            "  inflating: potholes/59.jpg         \n",
            "  inflating: potholes/6.jpg          \n",
            "  inflating: potholes/60.jpg         \n",
            "  inflating: potholes/61.jpg         \n",
            "  inflating: potholes/62.jpg         \n",
            "  inflating: potholes/63.jpg         \n",
            "  inflating: potholes/64.jpg         \n",
            "  inflating: potholes/65.jpg         \n",
            "  inflating: potholes/66.jpg         \n",
            "  inflating: potholes/67.jpg         \n",
            "  inflating: potholes/68.jpg         \n",
            "  inflating: potholes/69.jpg         \n",
            "  inflating: potholes/7.jpg          \n",
            "  inflating: potholes/70.jpg         \n",
            "  inflating: potholes/71.jpg         \n",
            "  inflating: potholes/72.jpg         \n",
            "  inflating: potholes/73.jpg         \n",
            "  inflating: potholes/74.jpg         \n",
            "  inflating: potholes/75.jpg         \n",
            "  inflating: potholes/76.jpg         \n",
            "  inflating: potholes/77.jpg         \n",
            "  inflating: potholes/78.jpg         \n",
            "  inflating: potholes/79.jpg         \n",
            "  inflating: potholes/8.jpg          \n",
            "  inflating: potholes/80.jpg         \n",
            "  inflating: potholes/81.jpg         \n",
            "  inflating: potholes/82.jpg         \n",
            "  inflating: potholes/83.jpg         \n",
            "  inflating: potholes/84.jpg         \n",
            "  inflating: potholes/85.jpg         \n",
            "  inflating: potholes/86.jpg         \n",
            "  inflating: potholes/87.jpg         \n",
            "  inflating: potholes/88.jpg         \n",
            "  inflating: potholes/89.jpg         \n",
            "  inflating: potholes/9.jpg          \n",
            "  inflating: potholes/90.jpg         \n",
            "  inflating: potholes/91.jpg         \n",
            "  inflating: potholes/92.jpg         \n",
            "  inflating: potholes/93.jpg         \n",
            "  inflating: potholes/94.jpg         \n",
            "  inflating: potholes/95.jpg         \n",
            "  inflating: potholes/96.jpg         \n",
            "  inflating: potholes/97.jpg         \n",
            "  inflating: potholes/98.jpg         \n",
            "  inflating: potholes/99.jpg         \n"
          ],
          "name": "stdout"
        }
      ]
    },
    {
      "cell_type": "markdown",
      "metadata": {
        "id": "mQ5fGqZqWeTX"
      },
      "source": [
        "Labelling your dataset as \"normal\" and \"potholes\""
      ]
    },
    {
      "cell_type": "code",
      "metadata": {
        "colab": {
          "base_uri": "https://localhost:8080/"
        },
        "id": "do8VAsjPXjGg",
        "outputId": "74a993a6-3605-4778-c4c8-85d11439bb62"
      },
      "source": [
        "directory = '/content'\n",
        "options = ['normal', 'potholes']\n",
        "dataset = []\n",
        "img_size = 224\n",
        "\n",
        "for i in options:\n",
        "  #Contains the path of the folder along with each of the image containing folder.\n",
        "  path_new = os.path.join(directory, i)\n",
        "  label = options.index(i)   #Takes 0 as normal and 1 as potholes\n",
        "  print(path_new)\n",
        "  for image in os.listdir(path_new):\n",
        "    image_array = cv2.imread(os.path.join(path_new,image), 0)\n",
        "    try:\n",
        "      img = cv2.resize(image_array, (img_size,img_size))\n",
        "    except Exception as e:\n",
        "      print(str(e))\n",
        "    dataset.append([img, label])"
      ],
      "execution_count": null,
      "outputs": [
        {
          "output_type": "stream",
          "text": [
            "/content/normal\n",
            "OpenCV(4.1.2) /io/opencv/modules/imgproc/src/resize.cpp:3720: error: (-215:Assertion failed) !ssize.empty() in function 'resize'\n",
            "\n",
            "/content/potholes\n"
          ],
          "name": "stdout"
        }
      ]
    },
    {
      "cell_type": "code",
      "metadata": {
        "colab": {
          "base_uri": "https://localhost:8080/",
          "height": 241
        },
        "id": "i-jabFN8bKQ6",
        "outputId": "98bf43ac-e65a-48d7-f298-6971ad85ffe0"
      },
      "source": [
        "cv2_imshow(dataset[0][0])"
      ],
      "execution_count": null,
      "outputs": [
        {
          "output_type": "display_data",
          "data": {
            "image/png": "[encoded data removed]",
            "text/plain": [
              "<PIL.Image.Image image mode=L size=224x224 at 0x7F8DE02FD910>"
            ]
          },
          "metadata": {
            "tags": []
          }
        }
      ]
    },
    {
      "cell_type": "code",
      "metadata": {
        "colab": {
          "base_uri": "https://localhost:8080/"
        },
        "id": "pnq-zCchbTFJ",
        "outputId": "94e4bf18-237a-4b94-c852-b718af720fbf"
      },
      "source": [
        "np.shape(dataset[0][0])"
      ],
      "execution_count": null,
      "outputs": [
        {
          "output_type": "execute_result",
          "data": {
            "text/plain": [
              "(224, 224)"
            ]
          },
          "metadata": {
            "tags": []
          },
          "execution_count": 7
        }
      ]
    },
    {
      "cell_type": "code",
      "metadata": {
        "colab": {
          "base_uri": "https://localhost:8080/"
        },
        "id": "l6SlLbHCby-d",
        "outputId": "4eae63b9-e6b8-4309-e836-fe524f4c7038"
      },
      "source": [
        "len(dataset)"
      ],
      "execution_count": null,
      "outputs": [
        {
          "output_type": "execute_result",
          "data": {
            "text/plain": [
              "681"
            ]
          },
          "metadata": {
            "tags": []
          },
          "execution_count": 8
        }
      ]
    },
    {
      "cell_type": "markdown",
      "metadata": {
        "id": "XD6ddm1fb_96"
      },
      "source": [
        "Therefore there are 681 images in our dataset"
      ]
    },
    {
      "cell_type": "code",
      "metadata": {
        "id": "qQVSwAVptfNO"
      },
      "source": [
        "import random\n",
        "random.shuffle(dataset)"
      ],
      "execution_count": null,
      "outputs": []
    },
    {
      "cell_type": "code",
      "metadata": {
        "id": "MMQk2NrJb-5u"
      },
      "source": [
        "x_train = []\n",
        "y_train = []\n",
        "\n",
        "for picture, label in dataset:\n",
        "  x_train.append(picture)\n",
        "  y_train.append(label)\n",
        "\n",
        "# Normalize the data\n",
        "x_train = np.array(x_train)/ 255 #since the images have a maximum of RGB value 255.\n",
        "y_train = np.array(y_train)\n",
        "#reshape(n_samples, width, height, n_features)\n",
        "x_train = x_train.reshape(x_train.shape[0], img_size, img_size, 1) #We need it in this format because Conv2D takes input in 4 dimensions"
      ],
      "execution_count": null,
      "outputs": []
    },
    {
      "cell_type": "code",
      "metadata": {
        "id": "OT7dPJDSdUcv"
      },
      "source": [
        "from keras.models import Sequential\n",
        "from keras.layers import Dense, Conv2D , MaxPool2D , Flatten, Dropout\n",
        "from keras.preprocessing.image import ImageDataGenerator\n",
        "from keras.optimizers import Adam\n",
        "\n",
        "from sklearn.metrics import classification_report,confusion_matrix"
      ],
      "execution_count": null,
      "outputs": []
    },
    {
      "cell_type": "markdown",
      "metadata": {
        "id": "n0_zufG5Wmxo"
      },
      "source": [
        "Making the neural network."
      ]
    },
    {
      "cell_type": "code",
      "metadata": {
        "colab": {
          "base_uri": "https://localhost:8080/"
        },
        "id": "ksY2Fm84lFBj",
        "outputId": "bbefa9db-d457-480f-84ab-4a2ff55c25f8"
      },
      "source": [
        "model = Sequential()\n",
        "model.add(Conv2D(32, (3,3), padding = 'same', activation = 'relu', input_shape = (img_size, img_size, 1)))\n",
        "model.add(MaxPool2D())\n",
        "model.add(Dropout(0.2))\n",
        "\n",
        "model.add(Conv2D(64, (3,3), padding = 'same', activation = 'relu'))\n",
        "model.add(MaxPool2D())\n",
        "model.add(Dropout(0.6))\n",
        "\n",
        "model.add(Flatten())\n",
        "model.add(Dense(128, activation = 'relu'))\n",
        "model.add(Dense(2, activation = 'softmax'))\n",
        "\n",
        "model.summary()"
      ],
      "execution_count": null,
      "outputs": [
        {
          "output_type": "stream",
          "text": [
            "Model: \"sequential_3\"\n",
            "_________________________________________________________________\n",
            "Layer (type)                 Output Shape              Param #   \n",
            "=================================================================\n",
            "conv2d_6 (Conv2D)            (None, 224, 224, 32)      320       \n",
            "_________________________________________________________________\n",
            "max_pooling2d_6 (MaxPooling2 (None, 112, 112, 32)      0         \n",
            "_________________________________________________________________\n",
            "dropout_6 (Dropout)          (None, 112, 112, 32)      0         \n",
            "_________________________________________________________________\n",
            "conv2d_7 (Conv2D)            (None, 112, 112, 64)      18496     \n",
            "_________________________________________________________________\n",
            "max_pooling2d_7 (MaxPooling2 (None, 56, 56, 64)        0         \n",
            "_________________________________________________________________\n",
            "dropout_7 (Dropout)          (None, 56, 56, 64)        0         \n",
            "_________________________________________________________________\n",
            "flatten_3 (Flatten)          (None, 200704)            0         \n",
            "_________________________________________________________________\n",
            "dense_6 (Dense)              (None, 128)               25690240  \n",
            "_________________________________________________________________\n",
            "dense_7 (Dense)              (None, 2)                 258       \n",
            "=================================================================\n",
            "Total params: 25,709,314\n",
            "Trainable params: 25,709,314\n",
            "Non-trainable params: 0\n",
            "_________________________________________________________________\n"
          ],
          "name": "stdout"
        }
      ]
    },
    {
      "cell_type": "code",
      "metadata": {
        "id": "iTqRS_qNqF-5"
      },
      "source": [
        "opt = Adam(learning_rate = 0.001)\n",
        "#opt = tf.keras.optimizers.SGD(learning_rate = 0.01)\n",
        "model.compile(optimizer = opt , loss = tf.keras.losses.SparseCategoricalCrossentropy(from_logits=True) , metrics = ['accuracy'])"
      ],
      "execution_count": null,
      "outputs": []
    },
    {
      "cell_type": "code",
      "metadata": {
        "id": "DNTFdwfU5IgA",
        "colab": {
          "base_uri": "https://localhost:8080/"
        },
        "outputId": "9a90810c-69e6-4e31-b970-e1fbdc33228b"
      },
      "source": [
        "history = model.fit(x_train, y_train, epochs = 10 , validation_split=0.2)"
      ],
      "execution_count": null,
      "outputs": [
        {
          "output_type": "stream",
          "text": [
            "Epoch 1/10\n"
          ],
          "name": "stdout"
        },
        {
          "output_type": "stream",
          "text": [
            "/usr/local/lib/python3.7/dist-packages/tensorflow/python/keras/backend.py:4930: UserWarning: \"`sparse_categorical_crossentropy` received `from_logits=True`, but the `output` argument was produced by a sigmoid or softmax activation and thus does not represent logits. Was this intended?\"\n",
            "  '\"`sparse_categorical_crossentropy` received `from_logits=True`, but '\n"
          ],
          "name": "stderr"
        },
        {
          "output_type": "stream",
          "text": [
            "17/17 [==============================] - 36s 2s/step - loss: 3.6839 - accuracy: 0.4959 - val_loss: 0.6944 - val_accuracy: 0.4599\n",
            "Epoch 2/10\n",
            "17/17 [==============================] - 34s 2s/step - loss: 0.6878 - accuracy: 0.5547 - val_loss: 0.6009 - val_accuracy: 0.7445\n",
            "Epoch 3/10\n",
            "17/17 [==============================] - 35s 2s/step - loss: 0.5138 - accuracy: 0.7474 - val_loss: 0.5738 - val_accuracy: 0.7591\n",
            "Epoch 4/10\n",
            "17/17 [==============================] - 35s 2s/step - loss: 0.4576 - accuracy: 0.7891 - val_loss: 0.6027 - val_accuracy: 0.7299\n",
            "Epoch 5/10\n",
            "17/17 [==============================] - 35s 2s/step - loss: 0.3885 - accuracy: 0.8272 - val_loss: 0.5137 - val_accuracy: 0.7737\n",
            "Epoch 6/10\n",
            "17/17 [==============================] - 35s 2s/step - loss: 0.3220 - accuracy: 0.8448 - val_loss: 0.4712 - val_accuracy: 0.7883\n",
            "Epoch 7/10\n",
            "17/17 [==============================] - 35s 2s/step - loss: 0.2336 - accuracy: 0.8947 - val_loss: 0.4784 - val_accuracy: 0.7737\n",
            "Epoch 8/10\n",
            "17/17 [==============================] - 35s 2s/step - loss: 0.1747 - accuracy: 0.9297 - val_loss: 0.4719 - val_accuracy: 0.8102\n",
            "Epoch 9/10\n",
            "17/17 [==============================] - 35s 2s/step - loss: 0.1335 - accuracy: 0.9522 - val_loss: 0.5142 - val_accuracy: 0.7883\n",
            "Epoch 10/10\n",
            "17/17 [==============================] - 35s 2s/step - loss: 0.0931 - accuracy: 0.9712 - val_loss: 0.4068 - val_accuracy: 0.8248\n"
          ],
          "name": "stdout"
        }
      ]
    },
    {
      "cell_type": "markdown",
      "metadata": {
        "id": "IlsvEBD_v9Tv"
      },
      "source": [
        "**As you can see the accuracy is 97%.**"
      ]
    },
    {
      "cell_type": "markdown",
      "metadata": {
        "id": "89SEgz56WySP"
      },
      "source": [
        "You can also test the model for an external image that you can import here. "
      ]
    }
  ]
}